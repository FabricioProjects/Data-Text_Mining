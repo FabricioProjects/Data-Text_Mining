{
 "cells": [
  {
   "cell_type": "code",
   "execution_count": 1,
   "metadata": {
    "ExecuteTime": {
     "end_time": "2017-03-02T10:50:03.050614",
     "start_time": "2017-03-02T10:50:02.987228"
    },
    "collapsed": true
   },
   "outputs": [],
   "source": [
    "import urllib.request\n",
    "import json\n",
    "import datetime\n",
    "import csv\n",
    "import time\n",
    "import codecs\n",
    "import sys"
   ]
  },
  {
   "cell_type": "markdown",
   "metadata": {},
   "source": [
    "**Credentials**"
   ]
  },
  {
   "cell_type": "code",
   "execution_count": 25,
   "metadata": {
    "ExecuteTime": {
     "end_time": "2017-03-02T11:10:23.569747",
     "start_time": "2017-03-02T11:10:23.558629"
    },
    "collapsed": true
   },
   "outputs": [],
   "source": [
    "app_id = \"...\"\n",
    "app_secret = \"...\" # DO NOT SHARE WITH ANYONE!\n",
    "page_id = \"atleticopr\"\n",
    "access_token = app_id + \"|\" + app_secret"
   ]
  },
  {
   "cell_type": "markdown",
   "metadata": {},
   "source": [
    "**Defining fuctions**"
   ]
  },
  {
   "cell_type": "code",
   "execution_count": 2,
   "metadata": {
    "ExecuteTime": {
     "end_time": "2017-03-02T10:50:26.526447",
     "start_time": "2017-03-02T10:50:26.516027"
    },
    "collapsed": false
   },
   "outputs": [],
   "source": [
    "# requested data from page\n",
    "def request_until_succeed(url):\n",
    "    req = urllib.request.Request(url)\n",
    "    success = False\n",
    "    while success is False:\n",
    "        try: \n",
    "            response = urllib.request.urlopen(req)\n",
    "            if response.getcode() == 200:\n",
    "                success = True\n",
    "        except Exception as e:\n",
    "            print(e)\n",
    "            time.sleep(5)\n",
    "\n",
    "            print(\"Error for URL %s: %s\" % (url, datetime.datetime.now()))\n",
    "            print(\"Retrying.\")\n",
    "\n",
    "    return response.read().decode(response.headers.get_content_charset())"
   ]
  },
  {
   "cell_type": "code",
   "execution_count": 3,
   "metadata": {
    "ExecuteTime": {
     "end_time": "2017-03-02T10:50:30.295730",
     "start_time": "2017-03-02T10:50:30.288884"
    },
    "collapsed": true
   },
   "outputs": [],
   "source": [
    "# Needed to write tricky unicode correctly to csv\n",
    "def unicode_normalize(text):\n",
    "    return text.translate({ 0x2018:0x27, 0x2019:0x27, 0x201C:0x22, 0x201D:0x22,\n",
    "                            0xa0:0x20 })"
   ]
  },
  {
   "cell_type": "code",
   "execution_count": 4,
   "metadata": {
    "ExecuteTime": {
     "end_time": "2017-03-02T10:50:38.559120",
     "start_time": "2017-03-02T10:50:38.550062"
    },
    "collapsed": true
   },
   "outputs": [],
   "source": [
    "# Construct the URL string; \n",
    "# see http://stackoverflow.com/a/37239851 for reactions parameters\n",
    "def getFacebookPageFeedData(page_id, access_token, num_statuses):\n",
    "\n",
    "    base = \"https://graph.facebook.com/v2.6\"\n",
    "    node = \"/%s/posts\" % page_id \n",
    "    fields = \"/?fields=message,link,created_time,type,name,id,\" + \\\n",
    "            \"comments.limit(0).summary(true),shares,reactions\" + \\\n",
    "            \".limit(0).summary(true)\"\n",
    "    parameters = \"&limit=%s&access_token=%s\" % (num_statuses, access_token)\n",
    "    url = base + node + fields + parameters\n",
    "    # retrieve data\n",
    "    data = json.loads(request_until_succeed(url))\n",
    "\n",
    "    return data"
   ]
  },
  {
   "cell_type": "code",
   "execution_count": 5,
   "metadata": {
    "ExecuteTime": {
     "end_time": "2017-03-02T10:50:42.739130",
     "start_time": "2017-03-02T10:50:42.725481"
    },
    "collapsed": true
   },
   "outputs": [],
   "source": [
    "# Reactions are only accessable at a single-post endpoint\n",
    "def getReactionsForStatus(status_id, access_token):\n",
    "\n",
    "    base = \"https://graph.facebook.com/v2.6\"\n",
    "    node = \"/%s\" % status_id\n",
    "    reactions = \"/?fields=\" \\\n",
    "            \"reactions.type(LIKE).limit(0).summary(total_count).as(like)\" \\\n",
    "            \",reactions.type(LOVE).limit(0).summary(total_count).as(love)\" \\\n",
    "            \",reactions.type(WOW).limit(0).summary(total_count).as(wow)\" \\\n",
    "            \",reactions.type(HAHA).limit(0).summary(total_count).as(haha)\" \\\n",
    "            \",reactions.type(SAD).limit(0).summary(total_count).as(sad)\" \\\n",
    "            \",reactions.type(ANGRY).limit(0).summary(total_count).as(angry)\"\n",
    "    parameters = \"&access_token=%s\" % access_token\n",
    "    url = base + node + reactions + parameters\n",
    "    # retrieve data\n",
    "    data = json.loads(request_until_succeed(url))\n",
    "    \n",
    "    return data"
   ]
  },
  {
   "cell_type": "code",
   "execution_count": 6,
   "metadata": {
    "ExecuteTime": {
     "end_time": "2017-03-02T10:51:30.383513",
     "start_time": "2017-03-02T10:51:30.325409"
    },
    "collapsed": false
   },
   "outputs": [],
   "source": [
    "# preprocessing the status\n",
    "def processFacebookPageFeedStatus(status, access_token):\n",
    "\n",
    "    # The status is now a Python dictionary, so for top-level items, we can simply call the key.\n",
    "    # Additionally, some items may not always exist, so must check for existence first\n",
    "    status_id = status['id']\n",
    "    status_message = '' if 'message' not in status.keys() \\\n",
    "                        else unicode_normalize(status['message'])\n",
    "    link_name = '' if 'name' not in status.keys() \\\n",
    "                   else unicode_normalize(status['name'])\n",
    "    status_type = status['type']\n",
    "    status_link = '' if 'link' not in status.keys() \\\n",
    "                     else unicode_normalize(status['link'])\n",
    "        \n",
    "    # Time needs special care since a) it's in UTC and b) it's not easy to use in statistical programs.\n",
    "    status_published = datetime.datetime \\\n",
    "                               .strptime(status['created_time'],'%Y-%m-%dT%H:%M:%S+0000')\n",
    "    status_published = status_published + \\\n",
    "                       datetime.timedelta(hours=+1) # Paris\n",
    "    status_published = status_published \\\n",
    "                       .strftime('%Y-%m-%d %H:%M:%S') # best time format for spreadsheet programs\n",
    "\n",
    "    if status_published < '2017-03-01 00:00:00': sys.exit(\"Date is not allowed\")\n",
    "    \n",
    "    # Nested items require chaining dictionary keys.\n",
    "    num_reactions = 0 if 'reactions' not in status \\\n",
    "                      else status['reactions']['summary']['total_count']\n",
    "    num_comments = 0  if 'comments' not in status \\\n",
    "                      else status['comments']['summary']['total_count']\n",
    "    num_shares = 0    if 'shares' not in status \\\n",
    "                      else status['shares']['count']\n",
    "\n",
    "    # Counts of each reaction separately; good for sentiment\n",
    "    # Only check for reactions if past date of implementation:\n",
    "    # http://newsroom.fb.com/news/2016/02/reactions-now-available-globally/\n",
    "    reactions = getReactionsForStatus(status_id, access_token) \\\n",
    "                if status_published > '2016-02-24 00:00:00' else {}\n",
    "    num_likes = 0 if 'like' not in reactions \\\n",
    "                  else reactions['like']['summary']['total_count']\n",
    "\n",
    "    # Special case: Set number of Likes to Number of reactions for pre-reaction statuses\n",
    "    num_likes = num_reactions if status_published < '2016-02-24 00:00:00' \\\n",
    "                              else num_likes\n",
    "\n",
    "    def get_num_total_reactions(reaction_type, reactions):\n",
    "        if reaction_type not in reactions:\n",
    "            return 0\n",
    "        else:\n",
    "            return reactions[reaction_type]['summary']['total_count']\n",
    "\n",
    "    num_loves  = get_num_total_reactions('love', reactions)\n",
    "    num_wows   = get_num_total_reactions('wow', reactions)\n",
    "    num_hahas  = get_num_total_reactions('haha', reactions)\n",
    "    num_sads   = get_num_total_reactions('sad', reactions)\n",
    "    num_angrys = get_num_total_reactions('angry', reactions)\n",
    "\n",
    "    # Return a tuple of all processed data\n",
    "    return (status_id, status_message, link_name, status_type, status_link,\n",
    "            status_published, num_reactions, num_comments, num_shares,\n",
    "            num_likes, num_loves, num_wows, num_hahas, num_sads, num_angrys)"
   ]
  },
  {
   "cell_type": "code",
   "execution_count": 26,
   "metadata": {
    "ExecuteTime": {
     "end_time": "2017-03-02T11:11:58.722692",
     "start_time": "2017-03-02T11:11:47.965348"
    },
    "collapsed": false
   },
   "outputs": [
    {
     "name": "stdout",
     "output_type": "stream",
     "text": [
      "Scraping atleticopr Facebook Page: 2017-03-02 11:11:48.024513\n",
      "\n"
     ]
    },
    {
     "ename": "SystemExit",
     "evalue": "Date is not allowed",
     "output_type": "error",
     "traceback": [
      "An exception has occurred, use %tb to see the full traceback.\n",
      "\u001b[0;31mSystemExit\u001b[0m\u001b[0;31m:\u001b[0m Date is not allowed\n"
     ]
    },
    {
     "name": "stderr",
     "output_type": "stream",
     "text": [
      "/home/teresas/anaconda3/envs/py_3.5.2/lib/python3.5/site-packages/IPython/core/interactiveshell.py:2889: UserWarning: To exit: use 'exit', 'quit', or Ctrl-D.\n",
      "  warn(\"To exit: use 'exit', 'quit', or Ctrl-D.\", stacklevel=1)\n"
     ]
    }
   ],
   "source": [
    "# writing the data\n",
    "def scrapeFacebookPageFeedStatus(page_id, access_token):\n",
    "    with open('/home/teresas/csv_files/facebook/%s_facebook_statuses.csv' % page_id, 'w',\\\n",
    "               newline='',encoding='utf-8') as file:\n",
    "        w = csv.writer(file) \n",
    "        w.writerow([\"status_id\", \"status_message\", \"link_name\", \"status_type\",\n",
    "                    \"status_link\", \"status_published\", \"num_reactions\", \n",
    "                    \"num_comments\", \"num_shares\", \"num_likes\", \"num_loves\", \n",
    "                    \"num_wows\", \"num_hahas\", \"num_sads\", \"num_angrys\"])\n",
    "\n",
    "        has_next_page = True\n",
    "        num_processed = 0   # keep a count on how many we've processed\n",
    "        scrape_starttime = datetime.datetime.now()\n",
    "\n",
    "        print(\"Scraping %s Facebook Page: %s\\n\" % (page_id, scrape_starttime))\n",
    "\n",
    "        statuses = getFacebookPageFeedData(page_id, access_token, 100)\n",
    "        \n",
    "        while has_next_page:\n",
    "            for status in statuses['data']:\n",
    "                # Ensure it is a status with the expected metadata\n",
    "                if 'reactions' in status:\n",
    "                    w.writerow(processFacebookPageFeedStatus(status,\n",
    "                               access_token))\n",
    "                # output progress occasionally to make sure code is not stalling\n",
    "                num_processed += 1\n",
    "                if num_processed % 100 == 0:\n",
    "                    print(\"%s Statuses Processed: %s\" % \\\n",
    "                        (num_processed, datetime.datetime.now()))\n",
    "            else:\n",
    "                has_next_page = False\n",
    "            # if there is no next page, we're done.\n",
    "            if 'paging' in statuses.keys():\n",
    "                statuses = json.loads(request_until_succeed(\n",
    "                                        statuses['paging']['next']))\n",
    "            \n",
    "                \n",
    "        print(\"\\nDone!\\n%s Statuses Processed in %s\" % \\\n",
    "            (num_processed, datetime.datetime.now() - scrape_starttime))\n",
    "\n",
    "if __name__ == '__main__':\n",
    "    scrapeFacebookPageFeedStatus(page_id, access_token)"
   ]
  },
  {
   "cell_type": "code",
   "execution_count": 39,
   "metadata": {
    "ExecuteTime": {
     "end_time": "2017-03-02T11:18:09.506998",
     "start_time": "2017-03-02T11:18:09.490075"
    },
    "collapsed": false
   },
   "outputs": [],
   "source": [
    "import pandas as pd\n",
    "pd.set_option('max_colwidth',100)\n",
    "df = pd.read_csv('/home/teresas/csv_files/facebook/atleticopr_facebook_statuses.csv')"
   ]
  },
  {
   "cell_type": "code",
   "execution_count": 40,
   "metadata": {
    "ExecuteTime": {
     "end_time": "2017-03-02T11:18:11.780070",
     "start_time": "2017-03-02T11:18:11.747310"
    },
    "collapsed": false
   },
   "outputs": [
    {
     "data": {
      "text/html": [
       "<div>\n",
       "<table border=\"1\" class=\"dataframe\">\n",
       "  <thead>\n",
       "    <tr style=\"text-align: right;\">\n",
       "      <th></th>\n",
       "      <th>status_id</th>\n",
       "      <th>status_message</th>\n",
       "      <th>link_name</th>\n",
       "      <th>status_type</th>\n",
       "      <th>status_link</th>\n",
       "      <th>status_published</th>\n",
       "      <th>num_reactions</th>\n",
       "      <th>num_comments</th>\n",
       "      <th>num_shares</th>\n",
       "      <th>num_likes</th>\n",
       "      <th>num_loves</th>\n",
       "      <th>num_wows</th>\n",
       "      <th>num_hahas</th>\n",
       "      <th>num_sads</th>\n",
       "      <th>num_angrys</th>\n",
       "    </tr>\n",
       "  </thead>\n",
       "  <tbody>\n",
       "    <tr>\n",
       "      <th>0</th>\n",
       "      <td>181724431849551_1413061688715813</td>\n",
       "      <td>Assista ao Atletiba AO VIVO aqui no Facebook!</td>\n",
       "      <td>Atletiba AO VIVO - Atlético 2x0 Coritiba</td>\n",
       "      <td>video</td>\n",
       "      <td>https://www.facebook.com/atleticopr/videos/1413061688715813/</td>\n",
       "      <td>2017-03-01 13:40:00</td>\n",
       "      <td>129528</td>\n",
       "      <td>75848</td>\n",
       "      <td>33577</td>\n",
       "      <td>95703</td>\n",
       "      <td>27050</td>\n",
       "      <td>1608</td>\n",
       "      <td>3513</td>\n",
       "      <td>444</td>\n",
       "      <td>1212</td>\n",
       "    </tr>\n",
       "  </tbody>\n",
       "</table>\n",
       "</div>"
      ],
      "text/plain": [
       "                          status_id  \\\n",
       "0  181724431849551_1413061688715813   \n",
       "\n",
       "                                  status_message  \\\n",
       "0  Assista ao Atletiba AO VIVO aqui no Facebook!   \n",
       "\n",
       "                                  link_name status_type  \\\n",
       "0  Atletiba AO VIVO - Atlético 2x0 Coritiba       video   \n",
       "\n",
       "                                                    status_link  \\\n",
       "0  https://www.facebook.com/atleticopr/videos/1413061688715813/   \n",
       "\n",
       "      status_published  num_reactions  num_comments  num_shares  num_likes  \\\n",
       "0  2017-03-01 13:40:00         129528         75848       33577      95703   \n",
       "\n",
       "   num_loves  num_wows  num_hahas  num_sads  num_angrys  \n",
       "0      27050      1608       3513       444        1212  "
      ]
     },
     "execution_count": 40,
     "metadata": {},
     "output_type": "execute_result"
    }
   ],
   "source": [
    "df"
   ]
  },
  {
   "cell_type": "code",
   "execution_count": 36,
   "metadata": {
    "ExecuteTime": {
     "end_time": "2017-03-02T11:17:43.204075",
     "start_time": "2017-03-02T11:17:43.197236"
    },
    "collapsed": false
   },
   "outputs": [],
   "source": [
    "# drop rows or last row\n",
    "df = df.drop(df.index[0:2])\n",
    "# df = df[:-1]\n"
   ]
  },
  {
   "cell_type": "code",
   "execution_count": 38,
   "metadata": {
    "ExecuteTime": {
     "end_time": "2017-03-02T11:18:03.803981",
     "start_time": "2017-03-02T11:18:03.793780"
    },
    "collapsed": true
   },
   "outputs": [],
   "source": [
    "# writing the dataframe for future manipulation\n",
    "df.to_csv('/home/teresas/csv_files/facebook/atleticopr_facebook_statuses.csv', index = False)"
   ]
  }
 ],
 "metadata": {
  "kernelspec": {
   "display_name": "Python 3",
   "language": "python",
   "name": "python3"
  },
  "language_info": {
   "codemirror_mode": {
    "name": "ipython",
    "version": 3
   },
   "file_extension": ".py",
   "mimetype": "text/x-python",
   "name": "python",
   "nbconvert_exporter": "python",
   "pygments_lexer": "ipython3",
   "version": "3.5.2"
  },
  "nbTranslate": {
   "displayLangs": [
    "*"
   ],
   "hotkey": "alt-t",
   "langInMainMenu": true,
   "sourceLang": "en",
   "targetLang": "fr",
   "useGoogleTranslate": true
  }
 },
 "nbformat": 4,
 "nbformat_minor": 2
}
