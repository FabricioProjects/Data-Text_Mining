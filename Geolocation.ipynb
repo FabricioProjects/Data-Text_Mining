{
 "cells": [
  {
   "cell_type": "code",
   "execution_count": 1,
   "metadata": {
    "ExecuteTime": {
     "end_time": "2017-02-26T13:12:54.876529",
     "start_time": "2017-02-26T13:12:54.842838"
    },
    "collapsed": false
   },
   "outputs": [
    {
     "data": {
      "text/plain": [
       "<pyspark.sql.session.SparkSession at 0x7ff3880a57b8>"
      ]
     },
     "execution_count": 1,
     "metadata": {},
     "output_type": "execute_result"
    }
   ],
   "source": [
    "spark"
   ]
  },
  {
   "cell_type": "code",
   "execution_count": 107,
   "metadata": {
    "ExecuteTime": {
     "end_time": "2017-02-26T20:00:30.242248",
     "start_time": "2017-02-26T20:00:30.237750"
    },
    "collapsed": true
   },
   "outputs": [],
   "source": [
    "# libraries and options for this notebook\n",
    "import pandas as pd\n",
    "pd.set_option('display.max_columns', 35)\n",
    "import requests"
   ]
  },
  {
   "cell_type": "code",
   "execution_count": 3,
   "metadata": {
    "ExecuteTime": {
     "end_time": "2017-02-26T13:13:16.326514",
     "start_time": "2017-02-26T13:13:10.282571"
    },
    "collapsed": true
   },
   "outputs": [],
   "source": [
    "df_spark_maps = spark.read.csv('/home/teresas/csv_files/df_maps_plot.csv', header=True)  "
   ]
  },
  {
   "cell_type": "code",
   "execution_count": 4,
   "metadata": {
    "ExecuteTime": {
     "end_time": "2017-02-26T13:13:22.575767",
     "start_time": "2017-02-26T13:13:20.158746"
    },
    "collapsed": false
   },
   "outputs": [
    {
     "data": {
      "text/html": [
       "<div>\n",
       "<table border=\"1\" class=\"dataframe\">\n",
       "  <thead>\n",
       "    <tr style=\"text-align: right;\">\n",
       "      <th></th>\n",
       "      <th>Lat</th>\n",
       "      <th>Lon</th>\n",
       "    </tr>\n",
       "  </thead>\n",
       "  <tbody>\n",
       "    <tr>\n",
       "      <th>0</th>\n",
       "      <td>37.7695711762103</td>\n",
       "      <td>-122.449920089485</td>\n",
       "    </tr>\n",
       "    <tr>\n",
       "      <th>1</th>\n",
       "      <td>37.7995314468258</td>\n",
       "      <td>-122.401240243673</td>\n",
       "    </tr>\n",
       "    <tr>\n",
       "      <th>2</th>\n",
       "      <td>37.7668035178194</td>\n",
       "      <td>-122.440704687809</td>\n",
       "    </tr>\n",
       "    <tr>\n",
       "      <th>3</th>\n",
       "      <td>37.7756902570435</td>\n",
       "      <td>-122.408609057895</td>\n",
       "    </tr>\n",
       "    <tr>\n",
       "      <th>4</th>\n",
       "      <td>37.7751470741622</td>\n",
       "      <td>-122.419255607214</td>\n",
       "    </tr>\n",
       "  </tbody>\n",
       "</table>\n",
       "</div>"
      ],
      "text/plain": [
       "                Lat                Lon\n",
       "0  37.7695711762103  -122.449920089485\n",
       "1  37.7995314468258  -122.401240243673\n",
       "2  37.7668035178194  -122.440704687809\n",
       "3  37.7756902570435  -122.408609057895\n",
       "4  37.7751470741622  -122.419255607214"
      ]
     },
     "execution_count": 4,
     "metadata": {},
     "output_type": "execute_result"
    }
   ],
   "source": [
    "df_maps_plot = df_spark_maps.toPandas()\n",
    "df_maps_plot.head(5)"
   ]
  },
  {
   "cell_type": "markdown",
   "metadata": {
    "ExecuteTime": {
     "end_time": "2017-02-26T15:33:00.834944",
     "start_time": "2017-02-26T15:33:00.425038"
    }
   },
   "source": [
    "**Getting the device geo info** "
   ]
  },
  {
   "cell_type": "code",
   "execution_count": 93,
   "metadata": {
    "ExecuteTime": {
     "end_time": "2017-02-26T17:28:30.407812",
     "start_time": "2017-02-26T17:28:30.060555"
    },
    "code_folding": [
     2
    ],
    "collapsed": false
   },
   "outputs": [
    {
     "name": "stdout",
     "output_type": "stream",
     "text": [
      "{'time_zone': 'Europe/Paris', 'metro_code': 0, 'longitude': 1.4437, 'region_name': 'Occitanie', 'latitude': 43.6043, 'country_name': 'France', 'country_code': 'FR', 'ip': '83.152.170.176', 'region_code': 'OCC', 'zip_code': '31200', 'city': 'Toulouse'}\n"
     ]
    }
   ],
   "source": [
    "# url \n",
    "FREEGEOPIP_URL = 'http://freegeoip.net/json'\n",
    "\n",
    "SAMPLE_RESPONSE = \"\"\"{\n",
    "    \"ip\":\"108.46.131.77\",\n",
    "    \"country_code\":\"US\",\n",
    "    \"country_name\":\"United States\",\n",
    "    \"region_code\":\"NY\",\n",
    "    \"region_name\":\"New York\",\n",
    "    \"city\":\"Brooklyn\",\n",
    "    \"zip_code\":\"11249\",\n",
    "    \"time_zone\":\"America/New_York\",\n",
    "    \"latitude\":40.645,\n",
    "    \"longitude\":-73.945,\n",
    "    \"metro_code\":501\n",
    "}\"\"\"\n",
    "\n",
    "def get_geolocation_for_ip(ip):\n",
    "    url = '{}/{}'.format(FREEGEOPIP_URL, ip)\n",
    "    r = requests.get(url)\n",
    "    r.raise_for_status()\n",
    "    return r.json()\n",
    "\n",
    "print(get_geolocation_for_ip(''))"
   ]
  },
  {
   "cell_type": "markdown",
   "metadata": {},
   "source": [
    "## Google Maps plot with gmplot"
   ]
  },
  {
   "cell_type": "code",
   "execution_count": 94,
   "metadata": {
    "ExecuteTime": {
     "end_time": "2017-02-26T19:38:11.162549",
     "start_time": "2017-02-26T19:38:11.157075"
    },
    "collapsed": true
   },
   "outputs": [],
   "source": [
    "import gmplot"
   ]
  },
  {
   "cell_type": "code",
   "execution_count": 153,
   "metadata": {
    "ExecuteTime": {
     "end_time": "2017-02-26T20:49:13.877778",
     "start_time": "2017-02-26T20:49:13.864757"
    },
    "collapsed": true
   },
   "outputs": [
    {
     "data": {
      "text/plain": [
       "Lat    float64\n",
       "Lon    float64\n",
       "dtype: object"
      ]
     },
     "execution_count": 153,
     "metadata": {},
     "output_type": "execute_result"
    }
   ],
   "source": [
    "# the data needs to be float\n",
    "df_maps_plot = df_maps_plot.apply(pd.to_numeric)\n",
    "df_maps_plot.dtypes"
   ]
  },
  {
   "cell_type": "code",
   "execution_count": 160,
   "metadata": {
    "ExecuteTime": {
     "end_time": "2017-02-26T20:59:15.401400",
     "start_time": "2017-02-26T20:59:15.395604"
    },
    "collapsed": false
   },
   "outputs": [],
   "source": [
    "# declare the center of the map, and how much we want the map zoomed in\n",
    "gmap = gmplot.GoogleMapPlotter(37.428, -122.145, 9)"
   ]
  },
  {
   "cell_type": "code",
   "execution_count": 176,
   "metadata": {
    "ExecuteTime": {
     "end_time": "2017-02-26T22:13:30.811594",
     "start_time": "2017-02-26T22:13:30.706189"
    },
    "collapsed": false
   },
   "outputs": [],
   "source": [
    "# initilization to the location of your choice\n",
    "gmap = gmplot.GoogleMapPlotter.from_geocode(\"San Francisco\")"
   ]
  },
  {
   "cell_type": "code",
   "execution_count": 177,
   "metadata": {
    "ExecuteTime": {
     "end_time": "2017-02-26T22:13:35.675502",
     "start_time": "2017-02-26T22:13:35.664664"
    },
    "collapsed": true
   },
   "outputs": [],
   "source": [
    "# heatmaps plot\n",
    "gmap.heatmap(df_maps_plot['Lat'], df_maps_plot['Lon'])\n",
    "gmap.draw(\"sf_heatmap.html\")"
   ]
  },
  {
   "cell_type": "code",
   "execution_count": 178,
   "metadata": {
    "ExecuteTime": {
     "end_time": "2017-02-26T22:13:40.408969",
     "start_time": "2017-02-26T22:13:40.402614"
    },
    "collapsed": true
   },
   "outputs": [],
   "source": [
    "# line plot\n",
    "gmap.plot(df_maps_plot['Lat'], df_maps_plot['Lon'], 'cornflowerblue', edge_width = 1)\n",
    "gmap.draw(\"sf_plot.html\")"
   ]
  },
  {
   "cell_type": "code",
   "execution_count": 179,
   "metadata": {
    "ExecuteTime": {
     "end_time": "2017-02-26T22:13:43.537448",
     "start_time": "2017-02-26T22:13:43.496426"
    },
    "collapsed": true
   },
   "outputs": [],
   "source": [
    "# scatter plot\n",
    "gmap.scatter(df_maps_plot['Lat'], df_maps_plot['Lon'], '#3B0B39', size = 40, marker = False)\n",
    "gmap.draw(\"sf_scatter.html\")"
   ]
  },
  {
   "cell_type": "code",
   "execution_count": 180,
   "metadata": {
    "ExecuteTime": {
     "end_time": "2017-02-26T22:13:47.352847",
     "start_time": "2017-02-26T22:13:47.333669"
    },
    "collapsed": true
   },
   "outputs": [],
   "source": [
    "# scatter with marks\n",
    "gmap.scatter(df_maps_plot['Lat'], df_maps_plot['Lon'], 'k', marker = True)\n",
    "gmap.draw(\"sf_scatter_mark.html\")"
   ]
  }
 ],
 "metadata": {
  "kernelspec": {
   "display_name": "Python 3",
   "language": "python",
   "name": "python3"
  },
  "language_info": {
   "codemirror_mode": {
    "name": "ipython",
    "version": 3
   },
   "file_extension": ".py",
   "mimetype": "text/x-python",
   "name": "python",
   "nbconvert_exporter": "python",
   "pygments_lexer": "ipython3",
   "version": "3.5.2"
  },
  "nbTranslate": {
   "displayLangs": [
    "*"
   ],
   "hotkey": "alt-t",
   "langInMainMenu": true,
   "sourceLang": "en",
   "targetLang": "fr",
   "useGoogleTranslate": true
  }
 },
 "nbformat": 4,
 "nbformat_minor": 2
}
